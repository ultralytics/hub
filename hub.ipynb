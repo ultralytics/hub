{
  "nbformat": 4,
  "nbformat_minor": 0,
  "metadata": {
    "colab": {
      "name": "Ultralytics HUB",
      "provenance": [],
      "collapsed_sections": [],
      "include_colab_link": true
    },
    "kernelspec": {
      "name": "python3",
      "display_name": "Python 3"
    },
    "language_info": {
      "name": "python"
    },
    "accelerator": "GPU"
  },
  "cells": [
    {
      "cell_type": "markdown",
      "metadata": {
        "id": "view-in-github",
        "colab_type": "text"
      },
      "source": [
        "<a href=\"https://colab.research.google.com/github/ultralytics/hub/blob/master/hub.ipynb\" target=\"_parent\"><img src=\"https://colab.research.google.com/assets/colab-badge.svg\" alt=\"Open In Colab\"/></a>"
      ]
    },
    {
      "cell_type": "markdown",
      "metadata": {
        "id": "FIzICjaph_Wy"
      },
      "source": [
        "<a align=\"center\" href=\"https://hub.ultralytics.com\" target=\"_blank\">\n",
        "<img width=\"1024\", src=\"https://user-images.githubusercontent.com/107626595/197213161-406e48c9-480d-4084-b90f-fe7b79341a19.png\"></a>\n",
        "\n",
        "Welcome to the [Ultralytics HUB](https://hub.ultralytics.com/) notebook! This notebook is used to train YOLOv5 🚀 models with HUB. See [github.com/ultralytics/yolov5](https://github.com/ultralytics/yolov5) for YOLOv5 details and [github.com/ultralytics/hub](https://github.com/ultralytics/hub) for HUB support, or visit our [Community Forum](https://community.ultralytics.com/) to ask a question. Thank you!"
      ]
    },
    {
      "cell_type": "markdown",
      "metadata": {
        "id": "eRQ2ow94MiOv"
      },
      "source": [
        "# Setup\n",
        "\n",
        "Install [ultralytics](https://pypi.org/project/ultralytics/) pip package and check environment."
      ]
    },
    {
      "cell_type": "code",
      "metadata": {
        "id": "FyDnXd-n4c7Y",
        "colab": {
          "base_uri": "https://localhost:8080/"
        },
        "outputId": "33290629-2e3e-492e-cb56-7f7b546838ee"
      },
      "source": [
        "%pip install ultralytics  # install\n",
        "import ultralytics\n",
        "ultralytics.checks()  # checks"
      ],
      "execution_count": null,
      "outputs": [
        {
          "output_type": "stream",
          "name": "stdout",
          "text": [
            "Ultralytics 🚀 0.0.24 torch 1.10.0+cu111 CUDA:0 (A100-SXM4-40GB, 40536MiB)\n",
            "Setup complete ✅ (12 CPUs, 83.5 GB RAM, 39.9/166.8 GB disk)\n"
          ]
        }
      ]
    },
    {
      "cell_type": "markdown",
      "metadata": {
        "id": "cQ9BwaAqxAm4"
      },
      "source": [
        "# Start\n",
        "\n",
        "Start training Ultralytics HUB YOLOv5 🚀 models!"
      ]
    },
    {
      "cell_type": "code",
      "metadata": {
        "id": "XSlZaJ9Iw_iZ"
      },
      "source": [
        "ultralytics.start('API_KEY')  # train"
      ],
      "execution_count": null,
      "outputs": []
    }
  ]
}
